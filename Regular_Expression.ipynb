{
  "nbformat": 4,
  "nbformat_minor": 0,
  "metadata": {
    "colab": {
      "name": "Regular_Expression.ipynb",
      "version": "0.3.2",
      "provenance": [],
      "include_colab_link": true
    },
    "kernelspec": {
      "name": "python3",
      "display_name": "Python 3"
    }
  },
  "cells": [
    {
      "cell_type": "markdown",
      "metadata": {
        "id": "view-in-github",
        "colab_type": "text"
      },
      "source": [
        "<a href=\"https://colab.research.google.com/github/rrupam/NLP_Tutorials/blob/master/Regular_Expression.ipynb\" target=\"_parent\"><img src=\"https://colab.research.google.com/assets/colab-badge.svg\" alt=\"Open In Colab\"/></a>"
      ]
    },
    {
      "cell_type": "markdown",
      "metadata": {
        "id": "LG8RSIxRuPPq",
        "colab_type": "text"
      },
      "source": [
        "Thanks to Analytics Vidhya for their course \"Introduction to Natural Language Processing\"."
      ]
    },
    {
      "cell_type": "code",
      "metadata": {
        "id": "eD_Rd__2o5PO",
        "colab_type": "code",
        "colab": {}
      },
      "source": [
        "import re"
      ],
      "execution_count": 0,
      "outputs": []
    },
    {
      "cell_type": "code",
      "metadata": {
        "id": "KdDsf01Qo-_Q",
        "colab_type": "code",
        "colab": {
          "base_uri": "https://localhost:8080/",
          "height": 34
        },
        "outputId": "9e70d2d5-2d0a-4d22-a213-017e8bc79857"
      },
      "source": [
        "string = \"Hello this is a test code in the test form\"\n",
        "pattern1 = \"Hello\"\n",
        "\n",
        "re.match(pattern1, string)            #Find if Hello is in the first position of the string\n"
      ],
      "execution_count": 8,
      "outputs": [
        {
          "output_type": "execute_result",
          "data": {
            "text/plain": [
              "<_sre.SRE_Match object; span=(0, 5), match='Hello'>"
            ]
          },
          "metadata": {
            "tags": []
          },
          "execution_count": 8
        }
      ]
    },
    {
      "cell_type": "code",
      "metadata": {
        "id": "uoTK_uvgr8xs",
        "colab_type": "code",
        "colab": {
          "base_uri": "https://localhost:8080/",
          "height": 34
        },
        "outputId": "edc31780-daf6-4b14-84eb-7c82d481b8db"
      },
      "source": [
        "pattern2 = \"this\"\n",
        "re.search(pattern2, string)           #Find if this is in the string"
      ],
      "execution_count": 10,
      "outputs": [
        {
          "output_type": "execute_result",
          "data": {
            "text/plain": [
              "<_sre.SRE_Match object; span=(6, 10), match='this'>"
            ]
          },
          "metadata": {
            "tags": []
          },
          "execution_count": 10
        }
      ]
    },
    {
      "cell_type": "code",
      "metadata": {
        "id": "PdHfWMi1sCko",
        "colab_type": "code",
        "colab": {
          "base_uri": "https://localhost:8080/",
          "height": 34
        },
        "outputId": "3fd0c3ca-96f1-46fd-ad0f-19c04b0a0bd9"
      },
      "source": [
        "pattern3 = \"test\"\n",
        "re.findall(pattern3, string             #Find all occurrences of the pattern in the string"
      ],
      "execution_count": 12,
      "outputs": [
        {
          "output_type": "execute_result",
          "data": {
            "text/plain": [
              "['test', 'test']"
            ]
          },
          "metadata": {
            "tags": []
          },
          "execution_count": 12
        }
      ]
    },
    {
      "cell_type": "code",
      "metadata": {
        "id": "ONRhy2_orFcg",
        "colab_type": "code",
        "colab": {
          "base_uri": "https://localhost:8080/",
          "height": 68
        },
        "outputId": "9b600d6c-ee7e-4742-f208-76cb71590dda"
      },
      "source": [
        "word = re.finditer(pattern, string        #Find the positions of the pattern in the string\n",
        "print(word)\n",
        "for w in word:\n",
        "  print(w.start())                   "
      ],
      "execution_count": 7,
      "outputs": [
        {
          "output_type": "stream",
          "text": [
            "<callable_iterator object at 0x7f48ab11ac88>\n",
            "16\n",
            "33\n"
          ],
          "name": "stdout"
        }
      ]
    },
    {
      "cell_type": "code",
      "metadata": {
        "id": "VUXZ7RZhrv25",
        "colab_type": "code",
        "colab": {
          "base_uri": "https://localhost:8080/",
          "height": 34
        },
        "outputId": "7017cd94-802d-4578-a9ab-b18a4778d6ba"
      },
      "source": [
        "st = \"Ron was born on 13-09-2000 and he was admitted ot school on 01-01-2005\"                     \n",
        "ptr = \"\\d{2}-\\d{2}-\\d{4}\"        #d is for digit and 2 is for 2 digits\n",
        "\n",
        "re.findall(ptr,st)"
      ],
      "execution_count": 16,
      "outputs": [
        {
          "output_type": "execute_result",
          "data": {
            "text/plain": [
              "['13-09-2000', '01-01-2005']"
            ]
          },
          "metadata": {
            "tags": []
          },
          "execution_count": 16
        }
      ]
    },
    {
      "cell_type": "code",
      "metadata": {
        "id": "XTdZN7w3sroR",
        "colab_type": "code",
        "colab": {
          "base_uri": "https://localhost:8080/",
          "height": 34
        },
        "outputId": "f2c31b57-7a21-4e8a-91dc-3166fac648ab"
      },
      "source": [
        "print(re.sub(ptr,\"Friday\", st))   #Find and Replace"
      ],
      "execution_count": 17,
      "outputs": [
        {
          "output_type": "stream",
          "text": [
            "Ron was born on Friday and he was admitted ot school on Friday\n"
          ],
          "name": "stdout"
        }
      ]
    },
    {
      "cell_type": "code",
      "metadata": {
        "id": "BqWutvmgtOxM",
        "colab_type": "code",
        "colab": {}
      },
      "source": [
        ""
      ],
      "execution_count": 0,
      "outputs": []
    }
  ]
}